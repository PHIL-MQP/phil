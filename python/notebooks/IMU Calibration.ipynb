{
 "cells": [
  {
   "cell_type": "markdown",
   "metadata": {},
   "source": [
    "# How to do the calibration"
   ]
  },
  {
   "cell_type": "markdown",
   "metadata": {},
   "source": [
    "## Code setup"
   ]
  },
  {
   "cell_type": "code",
   "execution_count": 1,
   "metadata": {},
   "outputs": [],
   "source": [
    "import matplotlib.pyplot as plt\n",
    "import numpy as np\n",
    "import csv\n",
    "import sys\n",
    "import os"
   ]
  },
  {
   "cell_type": "markdown",
   "metadata": {},
   "source": [
    "# The Algorithm"
   ]
  },
  {
   "cell_type": "markdown",
   "metadata": {},
   "source": [
    " - The first step is to let the IMU sit at rest for $T_{init}$ seconds. This interval is derived from the Allen Variance metnhod.\n",
    " - Also during this initial time interval, measure the average gyro readings in each axis: $\\textbf{b}^g$\n",
    " - Let the IMU sit at some orientation for 4 seconds, then move it to some other orientation. Repeat this between 36 and 50 times.\n",
    " - Iterate over each gyroscope readings and subtract the bias $\\text{b}^g$\n",
    " - Compute the magnitude of the variance $\\varsigma_{init}$ for the accelerometer data over the $T_{init}$. To do this, you iterate over each accelerometer reading during $T_{init}$ and compute the sample variance. This is the average of the variance for each point: $var(a) = (a-\\mathbb{E}[a])^2$. Do this for each axis."
   ]
  },
  {
   "cell_type": "markdown",
   "metadata": {},
   "source": [
    "#### A quick code example of this part:"
   ]
  },
  {
   "cell_type": "code",
   "execution_count": 2,
   "metadata": {},
   "outputs": [
    {
     "name": "stdout",
     "output_type": "stream",
     "text": [
      "expected_value:  1.03333333333\n",
      "sample variance: 0.0322222222222\n"
     ]
    }
   ],
   "source": [
    "x = [1.1, 1.2, 0.9, 0.9, 1.3, 0.8]\n",
    "expected_value = np.mean(x)\n",
    "print(\"expected_value: \", expected_value)\n",
    "sample_variance = np.mean((x - expected_value)**2)\n",
    "print(\"sample variance:\", sample_variance)"
   ]
  },
  {
   "cell_type": "markdown",
   "metadata": {},
   "source": [
    " - Iterate over a bunch of thresholds and compute how good each one is at calibrating the data. This is what the loop in Algorithm 1 refers to.\n",
    "   - Set the threshold you're testing to $threshold = i * \\varsigma_{init}$\n",
    "   - Compute the regions of static/dynamic using that threshold\n",
    "     - Iterate over each window of $t_{wait}$ size in the collected data and compute the sample variance (same as above) and compare to the threshold\n",
    "     - If it's greater, the you classify as dynamics, otherwise as static\n",
    "     - The output will be like the black line in Figure 3\n",
    "   - Do the LM optimization (magic call the Eigen).\n",
    "     - For this LM, we need to provide a functor that has `int operator()(const Eigen::VectorXf &x, Eigen::VectorXf &fvec) const` and `int df(const Eigen::VectorXf &x, Eigen::MatrixXf &fjac) const`. For `operator()` it should fill `fvec` with the values of the equation $e_k={\\lVert g\\rVert}^2 - {\\lVert T^aK^a(a_k^S+b^a)\\rVert}^2$, where ${\\lVert g\\rVert}^2 = 9.8$. For `df`, you fill `fjac` with each error term $\\frac{\\partial e_1}{\\partial \\theta^{acc}}, \\dots, \\frac{\\partial e_k}{\\partial \\theta^{acc}}$.\n",
    "      - Compute the residuals for the final optimized parameters\n",
    "      - Save (residuals, params, threshold, intervals) if they're the best ones so far\n",
    " - Calibrate the accelerometer $a^o = T^aK^a(a^S+b^a)$\n",
    " - Calibrate the gyroscope using another LM. This time in `int operator()` you fill `fvec` with $\\lVert(u_{a,k} - u_{g,k})\\rVert$ and also the partials into `fjac`."
   ]
  },
  {
   "cell_type": "code",
   "execution_count": null,
   "metadata": {
    "collapsed": true
   },
   "outputs": [],
   "source": [
    "## Setting up the Jacobians\n",
    "\n",
    "Look in `docs/IMU_calibration.pdf`"
   ]
  },
  {
   "cell_type": "markdown",
   "metadata": {},
   "source": [
    "## Evaluating the accuacy of numerical derivatives"
   ]
  },
  {
   "cell_type": "code",
   "execution_count": 3,
   "metadata": {},
   "outputs": [
    {
     "name": "stdout",
     "output_type": "stream",
     "text": [
      "five-point approximations\n",
      "[[ 0.192     ]\n",
      " [-0.024     ]\n",
      " [ 0.158     ]\n",
      " [-0.04800001]\n",
      " [-1.24480035]\n",
      " [-0.0042    ]\n",
      " [-0.24      ]\n",
      " [-1.556     ]\n",
      " [-0.042     ]]\n"
     ]
    }
   ],
   "source": [
    "def func(theta_acc):\n",
    "    T = np.array([[1, -theta_acc[0], theta_acc[1]],[0, 1, -theta_acc[2]],[0,0,1]])\n",
    "    K = np.array([[theta_acc[3],0,0],[0,theta_acc[4],0],[0,0,theta_acc[5]]])\n",
    "    b = np.array([[theta_acc[6]],[theta_acc[7]],[theta_acc[8]]])\n",
    "    return 1 - np.linalg.norm(T@K@(a_i + b))**2\n",
    "\n",
    "def five_point_approximation(func, theta_acc, h):\n",
    "    N = theta_acc.shape[1]\n",
    "    partials = np.ndarray((N,1))\n",
    "    for partial_idx in range(N):\n",
    "        hs = np.array([-2*h, -h, h, 2*h])\n",
    "        nodes = np.repeat(theta_acc, 4, axis=0)\n",
    "        nodes[:,partial_idx] += hs\n",
    "        five_point_approx = 1/(12*h)*(func(nodes[0]) - 8*func(nodes[1]) + 8*func(nodes[2]) - func(nodes[3]))\n",
    "        partials[partial_idx] = five_point_approx\n",
    "    return partials\n",
    "\n",
    "\n",
    "# theta_acc = [a_yz, a_zy, a_zx, s_x_a, s_y_a, s_z_a, b_x_a, b_y_a, b_z_a]\n",
    "theta_acc = np.array([[0.1, 0, 0.1, 1, 1, 1, 0, 0.1, 0]], dtype=np.float32)\n",
    "a_i = np.array([[0.2], [0.7], [0.1]])\n",
    "h = 0.1\n",
    "\n",
    "print(\"five-point approximations\")\n",
    "print(five_point_approximation(func, theta_acc, h))"
   ]
  },
  {
   "cell_type": "code",
   "execution_count": 4,
   "metadata": {},
   "outputs": [],
   "source": [
    "data_filename = \"recorded_sensor_data/imu_calibration_11_14_20-00-00/imu_calibration_data_11_14.csv\"\n",
    "reader = csv.reader(open(data_filename, 'r'))\n",
    "\n",
    "next(reader) # skip header\n",
    "data = []\n",
    "for row in reader:\n",
    "    data.append([float(x) for x in row])\n",
    "data = np.array(data)"
   ]
  },
  {
   "cell_type": "markdown",
   "metadata": {},
   "source": [
    "## iterate over the Tinit period to compute the gyro biases"
   ]
  },
  {
   "cell_type": "code",
   "execution_count": 5,
   "metadata": {},
   "outputs": [],
   "source": [
    "Tinit = 4\n",
    "samples_per_second = 100\n",
    "Tinit_idx = int(Tinit * samples_per_second)\n",
    "init_data = data[:Tinit_idx]\n",
    "remaining_data = data[Tinit_idx:]\n",
    "gyro_biases = np.mean(init_data, axis=0)[3:6]\n",
    "data -= np.array([0, 0, 0, gyro_biases[0], gyro_biases[1], gyro_biases[2], 0])"
   ]
  },
  {
   "cell_type": "code",
   "execution_count": 6,
   "metadata": {},
   "outputs": [
    {
     "data": {
      "image/png": "[encoded data removed]",
      "text/plain": [
       "<matplotlib.figure.Figure at 0x111780940>"
      ]
     },
     "metadata": {},
     "output_type": "display_data"
    }
   ],
   "source": [
    "plt.figure(figsize=(10,4))\n",
    "plt.title(\"Static Classifier\")\n",
    "plt.plot(init_data[:,0], label='accel x',c='m')\n",
    "plt.plot(init_data[:,1], label='accel y', c='b')\n",
    "plt.plot(init_data[:,2], label='accel z', c='y')\n",
    "plt.legend(bbox_to_anchor=(1.1,1))\n",
    "plt.show()"
   ]
  },
  {
   "cell_type": "code",
   "execution_count": 7,
   "metadata": {},
   "outputs": [],
   "source": [
    "def get_static_intervals(threshold, data, t_wait, sample_per_second):\n",
    "    window_size = int(sample_per_second * t_wait)\n",
    "    if window_size % 2 == 0:\n",
    "        window_size -= 1\n",
    "    data_array_size = len(data)\n",
    "    classifications = np.zeros(data_array_size)\n",
    "    static_indicators = []\n",
    "    temp_pair = [-1, -1]\n",
    "    previously_static = False\n",
    "    for i in range(data_array_size - window_size):\n",
    "        window_data = data[i:i+window_size]\n",
    "        center = i + window_size // 2\n",
    "        variance = np.sum(np.var(window_data[:, :3], axis = 0)**2)\n",
    "        \n",
    "        #end of a static interval\n",
    "        static = variance < threshold\n",
    "        if not static and previously_static:\n",
    "            temp_pair[1] = center\n",
    "            static_indicators.append(temp_pair)\n",
    "            temp_pair = [-1, -1]\n",
    "        #start of a static intervals\n",
    "        elif static and not previously_static:\n",
    "            temp_pair[0] = center\n",
    "        \n",
    "        previously_static = static\n",
    "        classifications[center] = 1 if static else 0\n",
    "        \n",
    "    if previously_static:\n",
    "        print(\"static at the end\")\n",
    "        temp_pair[1] = data_array_size - window_size // 2 - 1\n",
    "        static_indicators.append(temp_pair)\n",
    "    \n",
    "    return static_indicators, classifications    "
   ]
  },
  {
   "cell_type": "code",
   "execution_count": 34,
   "metadata": {
    "scrolled": false
   },
   "outputs": [
    {
     "name": "stdout",
     "output_type": "stream",
     "text": [
      "hi [ 9.8  0.   0. ] hi\n"
     ]
    },
    {
     "data": {
      "text/plain": [
       "array([[-15.002225,   5.330995,   0.      ,   0.      ],\n",
       "       [  5.330995,  15.002225,   0.      ,   0.      ],\n",
       "       [  0.      ,   0.      ,  -1.      ,   9.8     ],\n",
       "       [  0.      ,   0.      ,  -8.23    , -16.386   ]])"
      ]
     },
     "execution_count": 34,
     "metadata": {},
     "output_type": "execute_result"
    }
   ],
   "source": [
    "def get_corrected_gyro_data(raw_data, theta_gyro):\n",
    "    gamma_yz = theta_gyro[0]\n",
    "    gamma_zy = theta_gyro[1]\n",
    "    gamma_xz = theta_gyro[2]\n",
    "    gamma_zx = theta_gyro[3]\n",
    "    gamma_xy = theta_gyro[4]\n",
    "    gamma_yx = theta_gyro[5]\n",
    "    s_x = theta_gyro[6]\n",
    "    s_y = theta_gyro[7]\n",
    "    s_z = theta_gyro[8]\n",
    "    T = np.array([[1, -gamma_yz, gamma_zy], [gamma_xz, 1, -gamma_zx], [-gamma_xy, gamma_yx, 1]])\n",
    "    K = np.array([[s_x, 0, 0], [0, s_y, 0], [0, 0, s_z]])\n",
    "    \n",
    "    #corrected frame\n",
    "    corretcted_data = [] \n",
    "    for w_s in raw_data:\n",
    "        corretcted_data.append(T@K@w_s)\n",
    "        \n",
    "    return corretcted_data\n",
    "\n",
    "def omega(gyro_frame):\n",
    "    w_x = gyro_frame[0]\n",
    "    w_y = gyro_frame[1]\n",
    "    w_z = gyro_frame[2]\n",
    "    return np.array([[0, -w_x, -w_y, -w_z], [w_x, 0, w_z, -w_y], [w_y, -w_z, 0, w_z], [w_z, w_y, -w_x, 0]])\n",
    "\n",
    "def euler_to_quaternion(acc_frame):\n",
    "    i = acc_frame[0]\n",
    "    j = acc_frame[1]\n",
    "    k = acc_frame[2]\n",
    "    print(\"hi\", acc_frame, \"hi\")\n",
    "    return np.array([[1, i, j, k],[i, -1, k, -j],[j, -k, -1, i],[k, j, -i, -1]])\n",
    "    \n",
    "def thi(w_s_i, u_ak, theta_gyro, dt):\n",
    "    # w_s is gyro scope data without bias\n",
    "    # theta_gyro is [gamma_yz, gamma_zy, gamma_xz, gamma_zx, gamma_xy, gamma_yx, s_x, s_y, s_z]\n",
    "    w_o = get_corrected_gyro_data(w_s_i, theta_gyro)\n",
    "    \n",
    "    u_gk = u_ak\n",
    "    \n",
    "    for corrected_gyro_frame in w_o:\n",
    "        u_gk += 0.5 * (omega(corrected_gyro_frame) @ u_gk) * dt\n",
    "    \n",
    "    return u_gk\n",
    " \n",
    "# print(get_corrected_gyro_data([np.array([[1],[1],[1]])], [1,1,1,1,1,1,2,3,2]))\n",
    "\n",
    "wwww = np.array([[[3.14],[0],[0]], [[3.14],[0],[0]]])\n",
    "uakk = np.array([9.8, 0, 0])\n",
    "thet = [0,0,0,0,0,0,1,1,1]\n",
    "dttt = .5\n",
    "\n",
    "\n",
    "\n",
    "\n",
    "thi(wwww, euler_to_quaternion(uakk), thet, dttt)"
   ]
  },
  {
   "cell_type": "code",
   "execution_count": 15,
   "metadata": {
    "scrolled": false
   },
   "outputs": [
    {
     "name": "stdout",
     "output_type": "stream",
     "text": [
      "sigma_init: 1.0761588803e-05\n"
     ]
    }
   ],
   "source": [
    "sigma_init = np.linalg.norm(np.var(init_data[:, :3], axis=0))\n",
    "print(\"sigma_init:\", sigma_init)"
   ]
  },
  {
   "cell_type": "code",
   "execution_count": null,
   "metadata": {
    "scrolled": false
   },
   "outputs": [],
   "source": [
    "intervals, classifications = get_static_intervals(sigma_init, remaining_data, 2.5, samples_per_second)\n",
    "plt.figure(figsize=(15,10))\n",
    "plt.title(\"Static Classifier\")\n",
    "plt.plot(classifications, c='k', label=\"static\")\n",
    "plt.plot(remaining_data[:,0], label='accel x', alpha=0.4, c='m')\n",
    "plt.plot(remaining_data[:,1], label='accel y', alpha=0.4, c='b')\n",
    "plt.plot(remaining_data[:,2], label='accel z', alpha=0.4, c='y')\n",
    "plt.legend(bbox_to_anchor=(1.1,1))\n",
    "plt.show()\n",
    "print(intervals)"
   ]
  },
  {
   "cell_type": "code",
   "execution_count": null,
   "metadata": {},
   "outputs": [],
   "source": [
    "total_intervals = 20\n",
    "s_intervals_opt = []\n",
    "params_acc = []\n",
    "threshold_opt = []\n",
    "t_wait = 2\n",
    "for i in range(1, total_intervals + 1):\n",
    "    threshold = i * sigma_init**2\n",
    "    intervals, classifications = get_static_intervals(threshold, remaining_data, t_wait, samples_per_second)"
   ]
  },
  {
   "cell_type": "markdown",
   "metadata": {},
   "source": [
    "### References\n",
    "\n",
    "- https://www.math.uwaterloo.ca/~hwolkowi/matrixcookbook.pdf\n",
    " - http://eigen.tuxfamily.org/bz_attachmentbase/attachment.cgi?id=395\n",
    " - https://medium.com/@sarvagya.vaish/levenberg-marquardt-optimization-part-1-981f5777b1d7\n",
    " - https://medium.com/@sarvagya.vaish/levenberg-marquardt-optimization-part-2-5a71f7db27a0\n",
    " - https://github.com/SarvagyaVaish/Eigen-Levenberg-Marquardt-Optimization/blob/master/main.cpp"
   ]
  }
 ],
 "metadata": {
  "kernelspec": {
   "display_name": "Python 3",
   "language": "python",
   "name": "python3"
  },
  "language_info": {
   "codemirror_mode": {
    "name": "ipython",
    "version": 3
   },
   "file_extension": ".py",
   "mimetype": "text/x-python",
   "name": "python",
   "nbconvert_exporter": "python",
   "pygments_lexer": "ipython3",
   "version": "3.6.2"
  }
 },
 "nbformat": 4,
 "nbformat_minor": 2
}
