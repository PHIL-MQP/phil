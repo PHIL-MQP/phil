{
 "cells": [
  {
   "cell_type": "markdown",
   "metadata": {},
   "source": [
    "# Kalman Filter\n",
    "A linear kalman filter. First we define our state variables x\n",
    "\n",
    "$$ x = \\begin{bmatrix}\n",
    "x & y & \\theta & \\dot{x} & \\dot{y} & \\dot{\\theta} & \\ddot{x} & \\ddot{y} & \\ddot{\\theta} & a_x^d & a_y^d & a_z^d & a_x^b & a_y^b & a_z^b & \\end{bmatrix}^T $$\n",
    "\n",
    "The control inputs are the wheel velocities.\n",
    "\n",
    "$$ u = \\begin{bmatrix}\n",
    "w_l \\\\\n",
    "w_r \\\\\n",
    "\\end{bmatrix} $$\n",
    "\n",
    "We must describe our dynamics. How does do we compute our next state given our current state and the control inputs\n",
    "\n",
    "\\begin{align}\n",
    "V &= \\frac{w_l + w_r}{2} \\\\\n",
    "x_{t+1} &= x + \\cos(\\theta)*V \\\\\n",
    "y_{t+1} &= y + \\sin(\\theta)*V \\\\\n",
    "\\end{align}"
   ]
  },
  {
   "cell_type": "code",
   "execution_count": null,
   "metadata": {
    "collapsed": true
   },
   "outputs": [],
   "source": []
  }
 ],
 "metadata": {
  "kernelspec": {
   "display_name": "Python 3",
   "language": "python",
   "name": "python3"
  },
  "language_info": {
   "codemirror_mode": {
    "name": "ipython",
    "version": 3
   },
   "file_extension": ".py",
   "mimetype": "text/x-python",
   "name": "python",
   "nbconvert_exporter": "python",
   "pygments_lexer": "ipython3",
   "version": "3.5.2"
  }
 },
 "nbformat": 4,
 "nbformat_minor": 2
}
