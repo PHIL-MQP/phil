{
 "cells": [
  {
   "cell_type": "markdown",
   "metadata": {},
   "source": [
    "# How to do the calibration"
   ]
  },
  {
   "cell_type": "markdown",
   "metadata": {},
   "source": [
    "## Code setup"
   ]
  },
  {
   "cell_type": "code",
   "execution_count": 8,
   "metadata": {
    "collapsed": false
   },
   "outputs": [],
   "source": [
    "import matplotlib.pyplot as plot\n",
    "import numpy as np\n",
    "import csv\n",
    "import sys\n",
    "import os"
   ]
  },
  {
   "cell_type": "markdown",
   "metadata": {},
   "source": [
    "# The Algorithm"
   ]
  },
  {
   "cell_type": "markdown",
   "metadata": {},
   "source": [
    " - The first step is to let the IMU sit at rest for $T_{init}$ seconds. This interval is derived from the Allen Variance metnhod.\n",
    " - Also during this initial time interval, measure the average gyro readings in each axis: $\\textbf{b}^g$\n",
    " - Let the IMU sit at some orientation for 4 seconds, then move it to some other orientation. Repeat this between 36 and 50 times.\n",
    " - Iterate over each gyroscope readings and subtract the bias $\\text{b}^g$\n",
    " - Compute the magnitude of the variance $\\varsigma_{init}$ for the accelerometer data over the $T_{init}$. To do this, you iterate over each accelerometer reading during $T_{init}$ and compute the sample variance. This is the average of the variance for each point: $var(a) = (a-\\mathbb{E}[a])^2$. Do this for each axis."
   ]
  },
  {
   "cell_type": "markdown",
   "metadata": {},
   "source": [
    "#### A quick code example of this part:"
   ]
  },
  {
   "cell_type": "code",
   "execution_count": 5,
   "metadata": {
    "collapsed": false
   },
   "outputs": [
    {
     "name": "stdout",
     "output_type": "stream",
     "text": [
      "expected_value:  1.03333333333\n",
      "sample variance: 0.0322222222222\n"
     ]
    }
   ],
   "source": [
    "x = [1.1, 1.2, 0.9, 0.9, 1.3, 0.8]\n",
    "expected_value = np.mean(x)\n",
    "print(\"expected_value: \", expected_value)\n",
    "sample_variance = np.mean((x - expected_value)**2)\n",
    "print(\"sample variance:\", sample_variance)"
   ]
  },
  {
   "cell_type": "markdown",
   "metadata": {},
   "source": [
    " - Iterate over a bunch of thresholds and compute how good each one is at calibrating the data. This is what the loop in Algorithm 1 refers to.\n",
    "   - Set the threshold you're testing to $threshold = i * \\varsigma_{init}$\n",
    "   - Compute the regions of static/dynamic using that threshold\n",
    "     - Iterate over each window of $t_{wait}$ size in the collected data and compute the sample variance (same as above) and compare to the threshold\n",
    "     - If it's greater, the you classify as dynamics, otherwise as static\n",
    "     - The output will be like the black line in Figure 3\n",
    "   - Do the LM optimization (magic call the Eigen).\n",
    "     - For this LM, we need to provide a functor that has `int operator()(const Eigen::VectorXf &x, Eigen::VectorXf &fvec) const` and `int df(const Eigen::VectorXf &x, Eigen::MatrixXf &fjac) const`. For `operator()` it should fill `fvec` with the values of the equation $e_k={\\lVert g\\rVert}^2 - {\\lVert T^aK^a(a_k^S+b^a)\\rVert}^2$, where ${\\lVert g\\rVert}^2 = 9.8$. For `df`, you fill `fjac` with each error term $\\frac{\\partial e_1}{\\partial \\theta^{acc}}, \\dots, \\frac{\\partial e_k}{\\partial \\theta^{acc}}$.\n",
    "      - Compute the residuals for the final optimized parameters\n",
    "      - Save (residuals, params, threshold, intervals) if they're the best ones so far\n",
    " - Calibrate the accelerometer $a^o = T^aK^a(a^S+b^a)$\n",
    " - Calibrate the gyroscope using another LM. This time in `int operator()` you fill `fvec` with $\\lVert(u_{a,k} - u_{g,k})\\rVert$ and also the partials into `fjac`."
   ]
  },
  {
   "cell_type": "markdown",
   "metadata": {},
   "source": [
    "## Setting up the Jacobians\n",
    "\n",
    "In order to run the LM minimization, you need to define the jacobian of the error you want to minimize with respect to the parameters.\n",
    "For the first LM run, our error tern is $e={\\lVert g\\rVert}^2-{\\lVert T^aK^a(a^S+b^a)\\rVert}^2$. The parameters here are $[\\alpha_{yz}, \\alpha_{zy}, \\alpha_{zx}, s^a_x, s^a_y, s^a_z, b^a_x, b^a_y, b^a_z]$, which means the jacobian will look like this:\n",
    "\n",
    "$\\begin{bmatrix}\n",
    "\\frac{\\partial e_1}{\\partial \\alpha_{yz}} & \\frac{\\partial e_1}{\\partial \\alpha_{zy}} & \\frac{\\partial e_1}{\\partial \\alpha_{zx}} & \\frac{\\partial e_1}{\\partial s^a_x} & \\frac{\\partial e_1}{\\partial s^a_y} & \\frac{\\partial e_1}{\\partial s^a_z} & \\frac{\\partial e_1}{\\partial b^a_x} & \\frac{\\partial e_1}{\\partial b^a_y} & \\frac{\\partial e_1}{\\partial b^a_z} \\\\\n",
    "\\vdots & \\vdots & \\vdots & \\vdots & \\vdots & \\vdots & \\vdots & \\vdots & \\vdots & \\\\\n",
    "\\frac{\\partial e_M}{\\partial \\alpha_{yz}} & \\frac{\\partial e_M}{\\partial \\alpha_{zy}} & \\frac{\\partial e_M}{\\partial \\alpha_{zx}} & \\frac{\\partial e_M}{\\partial s^a_x} & \\frac{\\partial e_M}{\\partial s^a_y} & \\frac{\\partial e_M}{\\partial s^a_z} & \\frac{\\partial e_M}{\\partial b^a_x} & \\frac{\\partial e_M}{\\partial b^a_y} & \\frac{\\partial e_M}{\\partial b^a_z} \\\\\n",
    "\\end{bmatrix}$\n",
    "\n",
    "We can solve for these analytically.\n",
    "\n",
    "$\\begin{align}\n",
    "\\frac{\\partial e_1}{\\partial \\alpha_{yz}} &= \\frac{\\partial}{\\partial \\alpha_{yz}}\\Big({\\lVert g\\rVert}^2-{\\lVert T^aK^a(a^S+b^a)\\rVert}^2\\Big) \\\\\n",
    " &= \\frac{\\partial}{\\partial \\alpha_{yz}}{\\lVert g\\rVert}^2-\\frac{\\partial}{\\partial \\alpha_{yz}}{\\lVert T^aK^a(a^S+b^a)\\rVert}^2 \\\\\n",
    " &= -\\frac{\\partial}{\\partial \\alpha_{yz}}{\\lVert T^aK^a(a^S+b^a)\\rVert}^2 \\\\\n",
    " &= -\\frac{\\partial}{\\partial \\alpha_{yz}}\\sqrt{\\sum{T^aK^a(a^S+b^a)}}^2 \\\\\n",
    " &= -\\frac{\\partial}{\\partial \\alpha_{yz}}\\sum{T^aK^a(a^S+b^a)} \\\\\n",
    "\\end{align}$"
   ]
  },
  {
   "cell_type": "markdown",
   "metadata": {},
   "source": [
    "References:\n",
    "\n",
    " - https://www.math.uwaterloo.ca/~hwolkowi/matrixcookbook.pdf\n",
    " - http://eigen.tuxfamily.org/bz_attachmentbase/attachment.cgi?id=395\n",
    " - https://medium.com/@sarvagya.vaish/levenberg-marquardt-optimization-part-1-981f5777b1d7\n",
    " - https://medium.com/@sarvagya.vaish/levenberg-marquardt-optimization-part-2-5a71f7db27a0\n",
    " - https://github.com/SarvagyaVaish/Eigen-Levenberg-Marquardt-Optimization/blob/master/main.cpp"
   ]
  },
  {
   "cell_type": "code",
   "execution_count": 20,
   "metadata": {
    "collapsed": false
   },
   "outputs": [],
   "source": [
    "data_filename = \"recorded_sensor_data/imu_calibration_11_14_20-00-00/imu_calibration_data_11_14.csv\"\n",
    "reader = csv.reader(open(data_filename, 'r'))\n",
    "\n",
    "next(reader) # skip header\n",
    "data = []\n",
    "for row in reader:\n",
    "    data.append([float(x) for x in row])\n",
    "data = np.array(data)"
   ]
  },
  {
   "cell_type": "markdown",
   "metadata": {},
   "source": [
    "## iterate over the Tinit period to compute the gyro biases"
   ]
  },
  {
   "cell_type": "code",
   "execution_count": 32,
   "metadata": {
    "collapsed": false
   },
   "outputs": [
    {
     "name": "stdout",
     "output_type": "stream",
     "text": [
      "gyro_biases: [ 0.0654159   0.13007117  0.08329117]\n"
     ]
    }
   ],
   "source": [
    "Tinit = 4\n",
    "samples_per_second = 100\n",
    "Tinit_idx = 4 * samples_per_second\n",
    "init_data = data[:Tinit_idx]\n",
    "gyro_biases = np.mean(init_data, axis=0)[3:6]\n",
    "print(\"gyro_biases:\", gyro_biases)\n",
    "sample_variance = np.var(init_data)"
   ]
  },
  {
   "cell_type": "code",
   "execution_count": null,
   "metadata": {
    "collapsed": true
   },
   "outputs": [],
   "source": []
  }
 ],
 "metadata": {
  "kernelspec": {
   "display_name": "Python 3",
   "language": "python",
   "name": "python3"
  },
  "language_info": {
   "codemirror_mode": {
    "name": "ipython",
    "version": 3
   },
   "file_extension": ".py",
   "mimetype": "text/x-python",
   "name": "python",
   "nbconvert_exporter": "python",
   "pygments_lexer": "ipython3",
   "version": "3.5.2"
  }
 },
 "nbformat": 4,
 "nbformat_minor": 2
}
